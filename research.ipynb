{
 "cells": [
  {
   "cell_type": "code",
   "outputs": [],
   "source": [
    "from ctransformers import AutoModelForCausalLM, AutoConfig, Config"
   ],
   "metadata": {
    "collapsed": false,
    "ExecuteTime": {
     "end_time": "2024-03-06T15:20:46.494123Z",
     "start_time": "2024-03-06T15:20:45.926123Z"
    }
   },
   "id": "f090d909d8bb7af8",
   "execution_count": 1
  },
  {
   "cell_type": "code",
   "outputs": [],
   "source": [
    "conf = AutoConfig(\n",
    "    Config(\n",
    "        temperature=0.01,\n",
    "        repetition_penalty=1.1,\n",
    "        batch_size=52,\n",
    "        max_new_tokens=1024,\n",
    "        context_length=2048\n",
    "    )\n",
    ")"
   ],
   "metadata": {
    "collapsed": false,
    "ExecuteTime": {
     "end_time": "2024-03-06T15:20:46.551310Z",
     "start_time": "2024-03-06T15:20:46.509122Z"
    }
   },
   "id": "96c4c818543c918a",
   "execution_count": 2
  },
  {
   "cell_type": "code",
   "outputs": [],
   "source": [
    "llm = AutoModelForCausalLM.from_pretrained(\n",
    "    \"models/mistral-7b-instruct-v0.1.Q4_K_M.gguf\",\n",
    "    model_type=\"mistral\",\n",
    "    config = conf\n",
    ")"
   ],
   "metadata": {
    "collapsed": false,
    "ExecuteTime": {
     "end_time": "2024-03-06T15:20:50.036309Z",
     "start_time": "2024-03-06T15:20:48.246070Z"
    }
   },
   "id": "324a24fdcc8a3bdc",
   "execution_count": 3
  },
  {
   "cell_type": "code",
   "outputs": [],
   "source": [
    "def prompt_gen(prompt: str)-> str:\n",
    "    return f\"<s>[INST] {prompt} [/INST]\""
   ],
   "metadata": {
    "collapsed": false,
    "ExecuteTime": {
     "end_time": "2024-03-06T15:25:03.659929Z",
     "start_time": "2024-03-06T15:25:03.656688Z"
    }
   },
   "id": "ff04fafa14c9315f",
   "execution_count": 4
  },
  {
   "cell_type": "code",
   "outputs": [],
   "source": [
    "query = 'What is the capital of france?'"
   ],
   "metadata": {
    "collapsed": false,
    "ExecuteTime": {
     "end_time": "2024-03-06T15:25:23.617330Z",
     "start_time": "2024-03-06T15:25:23.613330Z"
    }
   },
   "id": "60219477039145d5",
   "execution_count": 5
  },
  {
   "cell_type": "code",
   "outputs": [],
   "source": [
    "answer = llm(\n",
    "    prompt_gen(query)\n",
    ")"
   ],
   "metadata": {
    "collapsed": false,
    "ExecuteTime": {
     "end_time": "2024-03-06T15:27:16.182689Z",
     "start_time": "2024-03-06T15:27:13.174818Z"
    }
   },
   "id": "981c4fc4270f2b8d",
   "execution_count": 8
  },
  {
   "cell_type": "code",
   "outputs": [
    {
     "name": "stdout",
     "output_type": "stream",
     "text": [
      " The capital city of France is Paris.\n"
     ]
    }
   ],
   "source": [
    "print(answer)"
   ],
   "metadata": {
    "collapsed": false,
    "ExecuteTime": {
     "end_time": "2024-03-06T15:27:16.188944Z",
     "start_time": "2024-03-06T15:27:16.183654Z"
    }
   },
   "id": "a9f37a0969be0ae2",
   "execution_count": 9
  },
  {
   "cell_type": "code",
   "outputs": [],
   "source": [],
   "metadata": {
    "collapsed": false
   },
   "id": "1be94ace4199f336"
  }
 ],
 "metadata": {
  "kernelspec": {
   "display_name": "Python 3",
   "language": "python",
   "name": "python3"
  },
  "language_info": {
   "codemirror_mode": {
    "name": "ipython",
    "version": 2
   },
   "file_extension": ".py",
   "mimetype": "text/x-python",
   "name": "python",
   "nbconvert_exporter": "python",
   "pygments_lexer": "ipython2",
   "version": "2.7.6"
  }
 },
 "nbformat": 4,
 "nbformat_minor": 5
}
