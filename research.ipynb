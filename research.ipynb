{
 "cells": [
  {
   "cell_type": "code",
   "outputs": [
    {
     "name": "stdout",
     "output_type": "stream",
     "text": [
      "^C\n",
      "^C\n"
     ]
    }
   ],
   "source": [
    "!pip install -q accelerate\n",
    "!pip install git+https://github.com/huggingface/transformers"
   ],
   "metadata": {
    "collapsed": false,
    "ExecuteTime": {
     "end_time": "2024-03-04T10:50:10.884803800Z",
     "start_time": "2024-03-04T10:50:06.436427300Z"
    }
   },
   "id": "adbf83328687e2cd",
   "execution_count": 1
  },
  {
   "cell_type": "code",
   "outputs": [
    {
     "name": "stdout",
     "output_type": "stream",
     "text": [
      "^C\n"
     ]
    }
   ],
   "source": [
    "!pip install ctransformers"
   ],
   "metadata": {
    "collapsed": false,
    "ExecuteTime": {
     "end_time": "2024-03-04T10:50:11.152927900Z",
     "start_time": "2024-03-04T10:50:10.880059100Z"
    }
   },
   "id": "1d5641b6d917faf7",
   "execution_count": 2
  },
  {
   "cell_type": "code",
   "execution_count": 7,
   "id": "initial_id",
   "metadata": {
    "collapsed": true,
    "ExecuteTime": {
     "end_time": "2024-03-04T11:24:42.237174300Z",
     "start_time": "2024-03-04T11:24:41.179916100Z"
    }
   },
   "outputs": [
    {
     "name": "stdout",
     "output_type": "stream",
     "text": [
      "Mon Mar  4 12:24:42 2024       \n",
      "+-----------------------------------------------------------------------------------------+\n",
      "| NVIDIA-SMI 551.61                 Driver Version: 551.61         CUDA Version: 12.4     |\n",
      "|-----------------------------------------+------------------------+----------------------+\n",
      "| GPU  Name                     TCC/WDDM  | Bus-Id          Disp.A | Volatile Uncorr. ECC |\n",
      "| Fan  Temp   Perf          Pwr:Usage/Cap |           Memory-Usage | GPU-Util  Compute M. |\n",
      "|                                         |                        |               MIG M. |\n",
      "|=========================================+========================+======================|\n",
      "|   0  NVIDIA GeForce GTX 1650      WDDM  |   00000000:01:00.0 Off |                  N/A |\n",
      "| N/A   41C    P0             13W /   50W |       0MiB /   4096MiB |      0%      Default |\n",
      "|                                         |                        |                  N/A |\n",
      "+-----------------------------------------+------------------------+----------------------+\n",
      "                                                                                         \n",
      "+-----------------------------------------------------------------------------------------+\n",
      "| Processes:                                                                              |\n",
      "|  GPU   GI   CI        PID   Type   Process name                              GPU Memory |\n",
      "|        ID   ID                                                               Usage      |\n",
      "|=========================================================================================|\n",
      "|  No running processes found                                                             |\n",
      "+-----------------------------------------------------------------------------------------+\n"
     ]
    }
   ],
   "source": [
    "!nvidia-smi"
   ]
  },
  {
   "cell_type": "code",
   "outputs": [
    {
     "ename": "AttributeError",
     "evalue": "module 'torch' has no attribute 'version'",
     "output_type": "error",
     "traceback": [
      "\u001B[1;31m---------------------------------------------------------------------------\u001B[0m",
      "\u001B[1;31mAttributeError\u001B[0m                            Traceback (most recent call last)",
      "Cell \u001B[1;32mIn[8], line 1\u001B[0m\n\u001B[1;32m----> 1\u001B[0m \u001B[38;5;28;01mimport\u001B[39;00m \u001B[38;5;21;01maccelerate\u001B[39;00m \n\u001B[0;32m      2\u001B[0m \u001B[38;5;28;01mimport\u001B[39;00m \u001B[38;5;21;01mtorch\u001B[39;00m\n\u001B[0;32m      3\u001B[0m \u001B[38;5;28;01mimport\u001B[39;00m \u001B[38;5;21;01mtransformers\u001B[39;00m\n",
      "File \u001B[1;32m~\\Desktop\\AI Agent\\agent_ai\\Lib\\site-packages\\accelerate\\__init__.py:3\u001B[0m\n\u001B[0;32m      1\u001B[0m __version__ \u001B[38;5;241m=\u001B[39m \u001B[38;5;124m\"\u001B[39m\u001B[38;5;124m0.27.2\u001B[39m\u001B[38;5;124m\"\u001B[39m\n\u001B[1;32m----> 3\u001B[0m \u001B[38;5;28;01mfrom\u001B[39;00m \u001B[38;5;21;01m.\u001B[39;00m\u001B[38;5;21;01maccelerator\u001B[39;00m \u001B[38;5;28;01mimport\u001B[39;00m Accelerator\n\u001B[0;32m      4\u001B[0m \u001B[38;5;28;01mfrom\u001B[39;00m \u001B[38;5;21;01m.\u001B[39;00m\u001B[38;5;21;01mbig_modeling\u001B[39;00m \u001B[38;5;28;01mimport\u001B[39;00m (\n\u001B[0;32m      5\u001B[0m     cpu_offload,\n\u001B[0;32m      6\u001B[0m     cpu_offload_with_hook,\n\u001B[1;32m   (...)\u001B[0m\n\u001B[0;32m     11\u001B[0m     load_checkpoint_and_dispatch,\n\u001B[0;32m     12\u001B[0m )\n\u001B[0;32m     13\u001B[0m \u001B[38;5;28;01mfrom\u001B[39;00m \u001B[38;5;21;01m.\u001B[39;00m\u001B[38;5;21;01mdata_loader\u001B[39;00m \u001B[38;5;28;01mimport\u001B[39;00m skip_first_batches\n",
      "File \u001B[1;32m~\\Desktop\\AI Agent\\agent_ai\\Lib\\site-packages\\accelerate\\accelerator.py:35\u001B[0m\n\u001B[0;32m     32\u001B[0m \u001B[38;5;28;01mimport\u001B[39;00m \u001B[38;5;21;01mtorch\u001B[39;00m\n\u001B[0;32m     33\u001B[0m \u001B[38;5;28;01mimport\u001B[39;00m \u001B[38;5;21;01mtorch\u001B[39;00m\u001B[38;5;21;01m.\u001B[39;00m\u001B[38;5;21;01mutils\u001B[39;00m\u001B[38;5;21;01m.\u001B[39;00m\u001B[38;5;21;01mhooks\u001B[39;00m \u001B[38;5;28;01mas\u001B[39;00m \u001B[38;5;21;01mhooks\u001B[39;00m\n\u001B[1;32m---> 35\u001B[0m \u001B[38;5;28;01mfrom\u001B[39;00m \u001B[38;5;21;01m.\u001B[39;00m\u001B[38;5;21;01mcheckpointing\u001B[39;00m \u001B[38;5;28;01mimport\u001B[39;00m load_accelerator_state, load_custom_state, save_accelerator_state, save_custom_state\n\u001B[0;32m     36\u001B[0m \u001B[38;5;28;01mfrom\u001B[39;00m \u001B[38;5;21;01m.\u001B[39;00m\u001B[38;5;21;01mdata_loader\u001B[39;00m \u001B[38;5;28;01mimport\u001B[39;00m DataLoaderDispatcher, prepare_data_loader, skip_first_batches\n\u001B[0;32m     37\u001B[0m \u001B[38;5;28;01mfrom\u001B[39;00m \u001B[38;5;21;01m.\u001B[39;00m\u001B[38;5;21;01mhooks\u001B[39;00m \u001B[38;5;28;01mimport\u001B[39;00m AlignDevicesHook\n",
      "File \u001B[1;32m~\\Desktop\\AI Agent\\agent_ai\\Lib\\site-packages\\accelerate\\checkpointing.py:24\u001B[0m\n\u001B[0;32m     21\u001B[0m \u001B[38;5;28;01mfrom\u001B[39;00m \u001B[38;5;21;01msafetensors\u001B[39;00m\u001B[38;5;21;01m.\u001B[39;00m\u001B[38;5;21;01mtorch\u001B[39;00m \u001B[38;5;28;01mimport\u001B[39;00m load_file\n\u001B[0;32m     22\u001B[0m \u001B[38;5;28;01mfrom\u001B[39;00m \u001B[38;5;21;01mtorch\u001B[39;00m\u001B[38;5;21;01m.\u001B[39;00m\u001B[38;5;21;01mcuda\u001B[39;00m\u001B[38;5;21;01m.\u001B[39;00m\u001B[38;5;21;01mamp\u001B[39;00m \u001B[38;5;28;01mimport\u001B[39;00m GradScaler\n\u001B[1;32m---> 24\u001B[0m \u001B[38;5;28;01mfrom\u001B[39;00m \u001B[38;5;21;01m.\u001B[39;00m\u001B[38;5;21;01mutils\u001B[39;00m \u001B[38;5;28;01mimport\u001B[39;00m (\n\u001B[0;32m     25\u001B[0m     MODEL_NAME,\n\u001B[0;32m     26\u001B[0m     OPTIMIZER_NAME,\n\u001B[0;32m     27\u001B[0m     RNG_STATE_NAME,\n\u001B[0;32m     28\u001B[0m     SAFE_MODEL_NAME,\n\u001B[0;32m     29\u001B[0m     SAFE_WEIGHTS_NAME,\n\u001B[0;32m     30\u001B[0m     SAMPLER_NAME,\n\u001B[0;32m     31\u001B[0m     SCALER_NAME,\n\u001B[0;32m     32\u001B[0m     SCHEDULER_NAME,\n\u001B[0;32m     33\u001B[0m     WEIGHTS_NAME,\n\u001B[0;32m     34\u001B[0m     get_pretty_name,\n\u001B[0;32m     35\u001B[0m     is_tpu_available,\n\u001B[0;32m     36\u001B[0m     is_xpu_available,\n\u001B[0;32m     37\u001B[0m     save,\n\u001B[0;32m     38\u001B[0m )\n\u001B[0;32m     41\u001B[0m \u001B[38;5;28;01mif\u001B[39;00m is_tpu_available(check_device\u001B[38;5;241m=\u001B[39m\u001B[38;5;28;01mFalse\u001B[39;00m):\n\u001B[0;32m     42\u001B[0m     \u001B[38;5;28;01mimport\u001B[39;00m \u001B[38;5;21;01mtorch_xla\u001B[39;00m\u001B[38;5;21;01m.\u001B[39;00m\u001B[38;5;21;01mcore\u001B[39;00m\u001B[38;5;21;01m.\u001B[39;00m\u001B[38;5;21;01mxla_model\u001B[39;00m \u001B[38;5;28;01mas\u001B[39;00m \u001B[38;5;21;01mxm\u001B[39;00m\n",
      "File \u001B[1;32m~\\Desktop\\AI Agent\\agent_ai\\Lib\\site-packages\\accelerate\\utils\\__init__.py:158\u001B[0m\n\u001B[0;32m    148\u001B[0m     \u001B[38;5;28;01mfrom\u001B[39;00m \u001B[38;5;21;01m.\u001B[39;00m\u001B[38;5;21;01mdeepspeed\u001B[39;00m \u001B[38;5;28;01mimport\u001B[39;00m (\n\u001B[0;32m    149\u001B[0m         DeepSpeedEngineWrapper,\n\u001B[0;32m    150\u001B[0m         DeepSpeedOptimizerWrapper,\n\u001B[1;32m   (...)\u001B[0m\n\u001B[0;32m    154\u001B[0m         HfDeepSpeedConfig,\n\u001B[0;32m    155\u001B[0m     )\n\u001B[0;32m    157\u001B[0m \u001B[38;5;28;01mfrom\u001B[39;00m \u001B[38;5;21;01m.\u001B[39;00m\u001B[38;5;21;01mbnb\u001B[39;00m \u001B[38;5;28;01mimport\u001B[39;00m has_4bit_bnb_layers, load_and_quantize_model\n\u001B[1;32m--> 158\u001B[0m \u001B[38;5;28;01mfrom\u001B[39;00m \u001B[38;5;21;01m.\u001B[39;00m\u001B[38;5;21;01mfsdp_utils\u001B[39;00m \u001B[38;5;28;01mimport\u001B[39;00m load_fsdp_model, load_fsdp_optimizer, save_fsdp_model, save_fsdp_optimizer\n\u001B[0;32m    159\u001B[0m \u001B[38;5;28;01mfrom\u001B[39;00m \u001B[38;5;21;01m.\u001B[39;00m\u001B[38;5;21;01mlaunch\u001B[39;00m \u001B[38;5;28;01mimport\u001B[39;00m (\n\u001B[0;32m    160\u001B[0m     PrepareForLaunch,\n\u001B[0;32m    161\u001B[0m     _filter_args,\n\u001B[1;32m   (...)\u001B[0m\n\u001B[0;32m    166\u001B[0m     prepare_tpu,\n\u001B[0;32m    167\u001B[0m )\n\u001B[0;32m    168\u001B[0m \u001B[38;5;28;01mfrom\u001B[39;00m \u001B[38;5;21;01m.\u001B[39;00m\u001B[38;5;21;01mmegatron_lm\u001B[39;00m \u001B[38;5;28;01mimport\u001B[39;00m (\n\u001B[0;32m    169\u001B[0m     AbstractTrainStep,\n\u001B[0;32m    170\u001B[0m     BertTrainStep,\n\u001B[1;32m   (...)\u001B[0m\n\u001B[0;32m    179\u001B[0m     gather_across_data_parallel_groups,\n\u001B[0;32m    180\u001B[0m )\n",
      "File \u001B[1;32m~\\Desktop\\AI Agent\\agent_ai\\Lib\\site-packages\\accelerate\\utils\\fsdp_utils.py:26\u001B[0m\n\u001B[0;32m     22\u001B[0m \u001B[38;5;28;01mfrom\u001B[39;00m \u001B[38;5;21;01m.\u001B[39;00m\u001B[38;5;21;01mversions\u001B[39;00m \u001B[38;5;28;01mimport\u001B[39;00m is_torch_version\n\u001B[0;32m     25\u001B[0m \u001B[38;5;28;01mif\u001B[39;00m is_torch_version(\u001B[38;5;124m\"\u001B[39m\u001B[38;5;124m>=\u001B[39m\u001B[38;5;124m\"\u001B[39m, FSDP_PYTORCH_VERSION) \u001B[38;5;129;01mand\u001B[39;00m is_torch_distributed_available():\n\u001B[1;32m---> 26\u001B[0m     \u001B[38;5;28;01mimport\u001B[39;00m \u001B[38;5;21;01mtorch\u001B[39;00m\u001B[38;5;21;01m.\u001B[39;00m\u001B[38;5;21;01mdistributed\u001B[39;00m\u001B[38;5;21;01m.\u001B[39;00m\u001B[38;5;21;01mcheckpoint\u001B[39;00m \u001B[38;5;28;01mas\u001B[39;00m \u001B[38;5;21;01mdist_cp\u001B[39;00m\n\u001B[0;32m     27\u001B[0m     \u001B[38;5;28;01mfrom\u001B[39;00m \u001B[38;5;21;01mtorch\u001B[39;00m\u001B[38;5;21;01m.\u001B[39;00m\u001B[38;5;21;01mdistributed\u001B[39;00m\u001B[38;5;21;01m.\u001B[39;00m\u001B[38;5;21;01mcheckpoint\u001B[39;00m\u001B[38;5;21;01m.\u001B[39;00m\u001B[38;5;21;01mdefault_planner\u001B[39;00m \u001B[38;5;28;01mimport\u001B[39;00m DefaultLoadPlanner, DefaultSavePlanner\n\u001B[0;32m     28\u001B[0m     \u001B[38;5;28;01mfrom\u001B[39;00m \u001B[38;5;21;01mtorch\u001B[39;00m\u001B[38;5;21;01m.\u001B[39;00m\u001B[38;5;21;01mdistributed\u001B[39;00m\u001B[38;5;21;01m.\u001B[39;00m\u001B[38;5;21;01mcheckpoint\u001B[39;00m\u001B[38;5;21;01m.\u001B[39;00m\u001B[38;5;21;01moptimizer\u001B[39;00m \u001B[38;5;28;01mimport\u001B[39;00m load_sharded_optimizer_state_dict\n",
      "File \u001B[1;32m~\\Desktop\\AI Agent\\agent_ai\\Lib\\site-packages\\torch\\distributed\\checkpoint\\__init__.py:7\u001B[0m\n\u001B[0;32m      1\u001B[0m \u001B[38;5;28;01mfrom\u001B[39;00m \u001B[38;5;21;01m.\u001B[39;00m\u001B[38;5;21;01mmetadata\u001B[39;00m \u001B[38;5;28;01mimport\u001B[39;00m (\n\u001B[0;32m      2\u001B[0m     TensorStorageMetadata,\n\u001B[0;32m      3\u001B[0m     BytesStorageMetadata,\n\u001B[0;32m      4\u001B[0m     ChunkStorageMetadata,\n\u001B[0;32m      5\u001B[0m     Metadata,\n\u001B[0;32m      6\u001B[0m )\n\u001B[1;32m----> 7\u001B[0m \u001B[38;5;28;01mfrom\u001B[39;00m \u001B[38;5;21;01m.\u001B[39;00m\u001B[38;5;21;01mstate_dict_loader\u001B[39;00m \u001B[38;5;28;01mimport\u001B[39;00m load_state_dict, load\n\u001B[0;32m      8\u001B[0m \u001B[38;5;28;01mfrom\u001B[39;00m \u001B[38;5;21;01m.\u001B[39;00m\u001B[38;5;21;01mstate_dict_saver\u001B[39;00m \u001B[38;5;28;01mimport\u001B[39;00m save_state_dict, save\n\u001B[0;32m      9\u001B[0m \u001B[38;5;28;01mfrom\u001B[39;00m \u001B[38;5;21;01m.\u001B[39;00m\u001B[38;5;21;01mstorage\u001B[39;00m \u001B[38;5;28;01mimport\u001B[39;00m StorageReader, StorageWriter\n",
      "File \u001B[1;32m~\\Desktop\\AI Agent\\agent_ai\\Lib\\site-packages\\torch\\distributed\\checkpoint\\state_dict_loader.py:12\u001B[0m\n\u001B[0;32m      8\u001B[0m \u001B[38;5;28;01mfrom\u001B[39;00m \u001B[38;5;21;01m.\u001B[39;00m\u001B[38;5;21;01mstorage\u001B[39;00m \u001B[38;5;28;01mimport\u001B[39;00m (\n\u001B[0;32m      9\u001B[0m     StorageReader,\n\u001B[0;32m     10\u001B[0m )\n\u001B[0;32m     11\u001B[0m \u001B[38;5;28;01mfrom\u001B[39;00m \u001B[38;5;21;01m.\u001B[39;00m\u001B[38;5;21;01mplanner\u001B[39;00m \u001B[38;5;28;01mimport\u001B[39;00m LoadPlanner\n\u001B[1;32m---> 12\u001B[0m \u001B[38;5;28;01mfrom\u001B[39;00m \u001B[38;5;21;01m.\u001B[39;00m\u001B[38;5;21;01mdefault_planner\u001B[39;00m \u001B[38;5;28;01mimport\u001B[39;00m DefaultLoadPlanner\n\u001B[0;32m     14\u001B[0m \u001B[38;5;28;01mfrom\u001B[39;00m \u001B[38;5;21;01m.\u001B[39;00m\u001B[38;5;21;01mutils\u001B[39;00m \u001B[38;5;28;01mimport\u001B[39;00m _DistWrapper, _all_gather_keys\n\u001B[0;32m     16\u001B[0m __all__ \u001B[38;5;241m=\u001B[39m [\u001B[38;5;124m\"\u001B[39m\u001B[38;5;124mload_state_dict\u001B[39m\u001B[38;5;124m\"\u001B[39m, \u001B[38;5;124m\"\u001B[39m\u001B[38;5;124mload\u001B[39m\u001B[38;5;124m\"\u001B[39m]\n",
      "File \u001B[1;32m~\\Desktop\\AI Agent\\agent_ai\\Lib\\site-packages\\torch\\distributed\\checkpoint\\default_planner.py:14\u001B[0m\n\u001B[0;32m     11\u001B[0m \u001B[38;5;28;01mimport\u001B[39;00m \u001B[38;5;21;01mtorch\u001B[39;00m\n\u001B[0;32m     13\u001B[0m \u001B[38;5;28;01mfrom\u001B[39;00m \u001B[38;5;21;01mtorch\u001B[39;00m\u001B[38;5;21;01m.\u001B[39;00m\u001B[38;5;21;01mdistributed\u001B[39;00m\u001B[38;5;21;01m.\u001B[39;00m\u001B[38;5;21;01m_shard\u001B[39;00m\u001B[38;5;21;01m.\u001B[39;00m\u001B[38;5;21;01m_utils\u001B[39;00m \u001B[38;5;28;01mimport\u001B[39;00m narrow_tensor_by_index\n\u001B[1;32m---> 14\u001B[0m \u001B[38;5;28;01mfrom\u001B[39;00m \u001B[38;5;21;01mtorch\u001B[39;00m\u001B[38;5;21;01m.\u001B[39;00m\u001B[38;5;21;01mdistributed\u001B[39;00m\u001B[38;5;21;01m.\u001B[39;00m\u001B[38;5;21;01m_tensor\u001B[39;00m \u001B[38;5;28;01mimport\u001B[39;00m DTensor\n\u001B[0;32m     17\u001B[0m \u001B[38;5;28;01mfrom\u001B[39;00m \u001B[38;5;21;01mtorch\u001B[39;00m\u001B[38;5;21;01m.\u001B[39;00m\u001B[38;5;21;01mdistributed\u001B[39;00m\u001B[38;5;21;01m.\u001B[39;00m\u001B[38;5;21;01mcheckpoint\u001B[39;00m\u001B[38;5;21;01m.\u001B[39;00m\u001B[38;5;21;01mplanner\u001B[39;00m \u001B[38;5;28;01mimport\u001B[39;00m (\n\u001B[0;32m     18\u001B[0m     SavePlanner,\n\u001B[0;32m     19\u001B[0m     LoadPlanner,\n\u001B[1;32m   (...)\u001B[0m\n\u001B[0;32m     24\u001B[0m     WriteItemType,\n\u001B[0;32m     25\u001B[0m )\n\u001B[0;32m     27\u001B[0m \u001B[38;5;28;01mfrom\u001B[39;00m \u001B[38;5;21;01mtorch\u001B[39;00m\u001B[38;5;21;01m.\u001B[39;00m\u001B[38;5;21;01mdistributed\u001B[39;00m\u001B[38;5;21;01m.\u001B[39;00m\u001B[38;5;21;01mcheckpoint\u001B[39;00m\u001B[38;5;21;01m.\u001B[39;00m\u001B[38;5;21;01mmetadata\u001B[39;00m \u001B[38;5;28;01mimport\u001B[39;00m (\n\u001B[0;32m     28\u001B[0m     BytesStorageMetadata,\n\u001B[0;32m     29\u001B[0m     ChunkStorageMetadata,\n\u001B[1;32m   (...)\u001B[0m\n\u001B[0;32m     34\u001B[0m     STORAGE_TYPES,\n\u001B[0;32m     35\u001B[0m )\n",
      "File \u001B[1;32m~\\Desktop\\AI Agent\\agent_ai\\Lib\\site-packages\\torch\\distributed\\_tensor\\__init__.py:346\u001B[0m\n\u001B[0;32m    334\u001B[0m     \u001B[38;5;28;01mreturn\u001B[39;00m _dtensor_init_helper(\n\u001B[0;32m    335\u001B[0m         torch\u001B[38;5;241m.\u001B[39mzeros,\n\u001B[0;32m    336\u001B[0m         torch_size,\n\u001B[1;32m   (...)\u001B[0m\n\u001B[0;32m    341\u001B[0m         placements\u001B[38;5;241m=\u001B[39mplacements,\n\u001B[0;32m    342\u001B[0m     )\n\u001B[0;32m    345\u001B[0m \u001B[38;5;28;01mif\u001B[39;00m \u001B[38;5;129;01mnot\u001B[39;00m torch\u001B[38;5;241m.\u001B[39m_running_with_deploy():\n\u001B[1;32m--> 346\u001B[0m     \u001B[38;5;28;01mimport\u001B[39;00m \u001B[38;5;21;01mtorch\u001B[39;00m\u001B[38;5;21;01m.\u001B[39;00m\u001B[38;5;21;01mdistributed\u001B[39;00m\u001B[38;5;21;01m.\u001B[39;00m\u001B[38;5;21;01m_tensor\u001B[39;00m\u001B[38;5;21;01m.\u001B[39;00m\u001B[38;5;21;01m_dynamo_utils\u001B[39;00m\n",
      "File \u001B[1;32m~\\Desktop\\AI Agent\\agent_ai\\Lib\\site-packages\\torch\\distributed\\_tensor\\_dynamo_utils.py:1\u001B[0m\n\u001B[1;32m----> 1\u001B[0m \u001B[38;5;28;01mfrom\u001B[39;00m \u001B[38;5;21;01mtorch\u001B[39;00m\u001B[38;5;21;01m.\u001B[39;00m\u001B[38;5;21;01m_dynamo\u001B[39;00m \u001B[38;5;28;01mimport\u001B[39;00m allow_in_graph\n\u001B[0;32m      2\u001B[0m \u001B[38;5;28;01mfrom\u001B[39;00m \u001B[38;5;21;01mtorch\u001B[39;00m\u001B[38;5;21;01m.\u001B[39;00m\u001B[38;5;21;01mdistributed\u001B[39;00m\u001B[38;5;21;01m.\u001B[39;00m\u001B[38;5;21;01m_tensor\u001B[39;00m\u001B[38;5;21;01m.\u001B[39;00m\u001B[38;5;21;01mapi\u001B[39;00m \u001B[38;5;28;01mimport\u001B[39;00m DTensor\n\u001B[0;32m      4\u001B[0m \u001B[38;5;66;03m# dynamo/torch.compile utils for\u001B[39;00m\n",
      "File \u001B[1;32m~\\Desktop\\AI Agent\\agent_ai\\Lib\\site-packages\\torch\\_dynamo\\__init__.py:2\u001B[0m\n\u001B[0;32m      1\u001B[0m \u001B[38;5;28;01mimport\u001B[39;00m \u001B[38;5;21;01mtorch\u001B[39;00m\n\u001B[1;32m----> 2\u001B[0m \u001B[38;5;28;01mfrom\u001B[39;00m \u001B[38;5;21;01m.\u001B[39;00m \u001B[38;5;28;01mimport\u001B[39;00m allowed_functions, convert_frame, eval_frame, resume_execution\n\u001B[0;32m      3\u001B[0m \u001B[38;5;28;01mfrom\u001B[39;00m \u001B[38;5;21;01m.\u001B[39;00m\u001B[38;5;21;01mbackends\u001B[39;00m\u001B[38;5;21;01m.\u001B[39;00m\u001B[38;5;21;01mregistry\u001B[39;00m \u001B[38;5;28;01mimport\u001B[39;00m list_backends, lookup_backend, register_backend\n\u001B[0;32m      4\u001B[0m \u001B[38;5;28;01mfrom\u001B[39;00m \u001B[38;5;21;01m.\u001B[39;00m\u001B[38;5;21;01mcode_context\u001B[39;00m \u001B[38;5;28;01mimport\u001B[39;00m code_context\n",
      "File \u001B[1;32m~\\Desktop\\AI Agent\\agent_ai\\Lib\\site-packages\\torch\\_dynamo\\allowed_functions.py:28\u001B[0m\n\u001B[0;32m     25\u001B[0m \u001B[38;5;28;01mimport\u001B[39;00m \u001B[38;5;21;01mtorch\u001B[39;00m\u001B[38;5;21;01m.\u001B[39;00m\u001B[38;5;21;01m_functorch\u001B[39;00m\u001B[38;5;21;01m.\u001B[39;00m\u001B[38;5;21;01mdeprecated\u001B[39;00m \u001B[38;5;28;01mas\u001B[39;00m \u001B[38;5;21;01mdeprecated_func\u001B[39;00m\n\u001B[0;32m     26\u001B[0m \u001B[38;5;28;01mfrom\u001B[39;00m \u001B[38;5;21;01mtorch\u001B[39;00m\u001B[38;5;21;01m.\u001B[39;00m\u001B[38;5;21;01mfx\u001B[39;00m\u001B[38;5;21;01m.\u001B[39;00m\u001B[38;5;21;01m_symbolic_trace\u001B[39;00m \u001B[38;5;28;01mimport\u001B[39;00m is_fx_tracing\n\u001B[1;32m---> 28\u001B[0m \u001B[38;5;28;01mfrom\u001B[39;00m \u001B[38;5;21;01m.\u001B[39;00m \u001B[38;5;28;01mimport\u001B[39;00m config\n\u001B[0;32m     29\u001B[0m \u001B[38;5;28;01mfrom\u001B[39;00m \u001B[38;5;21;01m.\u001B[39;00m\u001B[38;5;21;01mexternal_utils\u001B[39;00m \u001B[38;5;28;01mimport\u001B[39;00m is_compiling\n\u001B[0;32m     30\u001B[0m \u001B[38;5;28;01mfrom\u001B[39;00m \u001B[38;5;21;01m.\u001B[39;00m\u001B[38;5;21;01mutils\u001B[39;00m \u001B[38;5;28;01mimport\u001B[39;00m hashable, is_safe_constant, NP_SUPPORTED_MODULES\n",
      "File \u001B[1;32m~\\Desktop\\AI Agent\\agent_ai\\Lib\\site-packages\\torch\\_dynamo\\config.py:288\u001B[0m\n\u001B[0;32m    284\u001B[0m \u001B[38;5;28;01mif\u001B[39;00m DEBUG_DIR_VAR_NAME \u001B[38;5;129;01min\u001B[39;00m os\u001B[38;5;241m.\u001B[39menviron:\n\u001B[0;32m    285\u001B[0m     debug_dir_root \u001B[38;5;241m=\u001B[39m os\u001B[38;5;241m.\u001B[39mpath\u001B[38;5;241m.\u001B[39mjoin(  \u001B[38;5;66;03m# [@compile_ignored: debug]\u001B[39;00m\n\u001B[0;32m    286\u001B[0m         os\u001B[38;5;241m.\u001B[39menviron[DEBUG_DIR_VAR_NAME], \u001B[38;5;124m\"\u001B[39m\u001B[38;5;124mtorch_compile_debug\u001B[39m\u001B[38;5;124m\"\u001B[39m\n\u001B[0;32m    287\u001B[0m     )\n\u001B[1;32m--> 288\u001B[0m \u001B[38;5;28;01melif\u001B[39;00m \u001B[43mis_fbcode\u001B[49m\u001B[43m(\u001B[49m\u001B[43m)\u001B[49m:\n\u001B[0;32m    289\u001B[0m     debug_dir_root \u001B[38;5;241m=\u001B[39m os\u001B[38;5;241m.\u001B[39mpath\u001B[38;5;241m.\u001B[39mjoin(  \u001B[38;5;66;03m# [@compile_ignored: debug]\u001B[39;00m\n\u001B[0;32m    290\u001B[0m         tempfile\u001B[38;5;241m.\u001B[39mgettempdir(), \u001B[38;5;124m\"\u001B[39m\u001B[38;5;124mtorch_compile_debug\u001B[39m\u001B[38;5;124m\"\u001B[39m\n\u001B[0;32m    291\u001B[0m     )\n\u001B[0;32m    292\u001B[0m \u001B[38;5;28;01melse\u001B[39;00m:\n",
      "File \u001B[1;32m~\\Desktop\\AI Agent\\agent_ai\\Lib\\site-packages\\torch\\_dynamo\\config.py:279\u001B[0m, in \u001B[0;36mis_fbcode\u001B[1;34m()\u001B[0m\n\u001B[0;32m    278\u001B[0m \u001B[38;5;28;01mdef\u001B[39;00m \u001B[38;5;21mis_fbcode\u001B[39m():\n\u001B[1;32m--> 279\u001B[0m     \u001B[38;5;28;01mreturn\u001B[39;00m \u001B[38;5;129;01mnot\u001B[39;00m \u001B[38;5;28mhasattr\u001B[39m(\u001B[43mtorch\u001B[49m\u001B[38;5;241;43m.\u001B[39;49m\u001B[43mversion\u001B[49m, \u001B[38;5;124m\"\u001B[39m\u001B[38;5;124mgit_version\u001B[39m\u001B[38;5;124m\"\u001B[39m)\n",
      "File \u001B[1;32m~\\Desktop\\AI Agent\\agent_ai\\Lib\\site-packages\\torch\\__init__.py:1938\u001B[0m, in \u001B[0;36m__getattr__\u001B[1;34m(name)\u001B[0m\n\u001B[0;32m   1935\u001B[0m     \u001B[38;5;28;01mimport\u001B[39;00m \u001B[38;5;21;01mimportlib\u001B[39;00m\n\u001B[0;32m   1936\u001B[0m     \u001B[38;5;28;01mreturn\u001B[39;00m importlib\u001B[38;5;241m.\u001B[39mimport_module(\u001B[38;5;124mf\u001B[39m\u001B[38;5;124m\"\u001B[39m\u001B[38;5;124m.\u001B[39m\u001B[38;5;132;01m{\u001B[39;00mname\u001B[38;5;132;01m}\u001B[39;00m\u001B[38;5;124m\"\u001B[39m, \u001B[38;5;18m__name__\u001B[39m)\n\u001B[1;32m-> 1938\u001B[0m \u001B[38;5;28;01mraise\u001B[39;00m \u001B[38;5;167;01mAttributeError\u001B[39;00m(\u001B[38;5;124mf\u001B[39m\u001B[38;5;124m\"\u001B[39m\u001B[38;5;124mmodule \u001B[39m\u001B[38;5;124m'\u001B[39m\u001B[38;5;132;01m{\u001B[39;00m\u001B[38;5;18m__name__\u001B[39m\u001B[38;5;132;01m}\u001B[39;00m\u001B[38;5;124m'\u001B[39m\u001B[38;5;124m has no attribute \u001B[39m\u001B[38;5;124m'\u001B[39m\u001B[38;5;132;01m{\u001B[39;00mname\u001B[38;5;132;01m}\u001B[39;00m\u001B[38;5;124m'\u001B[39m\u001B[38;5;124m\"\u001B[39m)\n",
      "\u001B[1;31mAttributeError\u001B[0m: module 'torch' has no attribute 'version'"
     ]
    }
   ],
   "source": [
    "import accelerate \n",
    "import torch\n",
    "import transformers\n",
    "import json\n",
    "\n",
    "CHECKPOINT = \"MaziyarPanahi/gemma-7b-GGUF\"\n",
    "\n",
    "# Make sure you set this variable according to the environment\n",
    "environment = \"local\""
   ],
   "metadata": {
    "collapsed": false,
    "ExecuteTime": {
     "end_time": "2024-03-04T11:24:46.714163Z",
     "start_time": "2024-03-04T11:24:46.245701900Z"
    }
   },
   "id": "d13bcfe97d459719",
   "execution_count": 8
  },
  {
   "cell_type": "code",
   "outputs": [],
   "source": [
    "# Show that when we do this neither GPU nor CPU memory increases\n",
    "config = transformers.AutoConfig.from_pretrained(CHECKPOINT)\n",
    "\n",
    "with accelerate.init_empty_weights():\n",
    "    fake_model = transformers.AutoModelForCausalLM.from_config(config)\n",
    "    \n",
    "device_map = accelerate.infer_auto_device_map(fake_model, max_memory={0: \"3GiB\", \"cpu\": \"6GiB\"})\n",
    "print(json.dumps(device_map, indent=4))"
   ],
   "metadata": {
    "collapsed": false,
    "ExecuteTime": {
     "end_time": "2024-03-04T10:50:24.831617300Z",
     "start_time": "2024-03-04T10:50:24.830614500Z"
    }
   },
   "id": "e20e4d6b4e6295cc",
   "execution_count": null
  },
  {
   "cell_type": "code",
   "outputs": [],
   "source": [
    "device_map = {\n",
    "    \"model.embed_tokens\": 0,\n",
    "    \"model.layers.0\": 0,\n",
    "    \"model.layers.1\": 0,\n",
    "    \"model.layers.2.self_attn.q_proj\": 0,\n",
    "    \"model.layers.2.self_attn.k_proj\": 0,\n",
    "    \"model.layers.2.self_attn.v_proj\": 0,\n",
    "    \"model.layers.2.self_attn.o_proj\": \"cpu\",\n",
    "    \"model.layers.2.self_attn.rotary_emb\": \"cpu\",\n",
    "    \"model.layers.2.mlp\": \"cpu\",\n",
    "    \"model.layers.2.input_layernorm\": \"cpu\",\n",
    "    \"model.layers.2.post_attention_layernorm\": \"cpu\",\n",
    "    \"model.layers.3\": \"cpu\",\n",
    "    \"model.layers.4\": \"cpu\",\n",
    "    \"model.layers.5\": \"cpu\",\n",
    "    \"model.layers.6\": \"cpu\",\n",
    "    \"model.layers.7.self_attn\": \"cpu\",\n",
    "    \"model.layers.7.mlp.gate_proj\": \"cpu\",\n",
    "    \"model.layers.7.mlp.up_proj\": \"cpu\",\n",
    "    \"model.layers.7.mlp.down_proj\": \"disk\",\n",
    "    \"model.layers.7.mlp.act_fn\": \"disk\",\n",
    "    \"model.layers.7.input_layernorm\": \"disk\",\n",
    "    \"model.layers.7.post_attention_layernorm\": \"disk\",\n",
    "    \"model.layers.8\": \"disk\",\n",
    "    \"model.layers.9\": \"disk\",\n",
    "    \"model.layers.10\": \"disk\",\n",
    "    \"model.layers.11\": \"disk\",\n",
    "    \"model.layers.12\": \"disk\",\n",
    "    \"model.layers.13\": \"disk\",\n",
    "    \"model.layers.14\": \"disk\",\n",
    "    \"model.layers.15\": \"disk\",\n",
    "    \"model.layers.16\": \"disk\",\n",
    "    \"model.layers.17\": \"disk\",\n",
    "    \"model.layers.18\": \"disk\",\n",
    "    \"model.layers.19\": \"disk\",\n",
    "    \"model.layers.20\": \"disk\",\n",
    "    \"model.layers.21\": \"disk\",\n",
    "    \"model.layers.22\": \"disk\",\n",
    "    \"model.layers.23\": \"disk\",\n",
    "    \"model.layers.24\": \"disk\",\n",
    "    \"model.layers.25\": \"disk\",\n",
    "    \"model.layers.26\": \"disk\",\n",
    "    \"model.layers.27\": \"disk\",\n",
    "    \"model.layers.28\": \"disk\",\n",
    "    \"model.layers.29\": \"disk\",\n",
    "    \"model.layers.30\": \"disk\",\n",
    "    \"model.layers.31\": \"disk\",\n",
    "    \"model.norm\": \"disk\",\n",
    "    \"lm_head\": \"disk\"\n",
    "}"
   ],
   "metadata": {
    "collapsed": false,
    "ExecuteTime": {
     "start_time": "2024-03-04T10:50:24.833615100Z"
    }
   },
   "id": "622da91cab9d5e3",
   "execution_count": null
  },
  {
   "cell_type": "code",
   "outputs": [],
   "source": [
    "import transformers\n",
    "from ctransformers import AutoModelForCausalLM, AutoTokenizer\n",
    "\n",
    "# Check what happens when device_map = auto\n",
    "# This will fail as the model in FP32 precision cannot be fit on CPU\n",
    "# model = transformers.LlamaForCausalLM.from_pretrained(\"decapoda-research/llama-7b-hf\")\n",
    "# This will fail as the model in FP32 precision cannot be fit on GPU\n",
    "# model = transformers.LlamaForCausalLM.from_pretrained(\"decapoda-research/llama-7b-hf\").to(\"cuda\")\n",
    "# This will also fail as the model cannot be fit on GPU fully even with the quantization\n",
    "# model = transformers.LlamaForCausalLM.from_pretrained(\"decapoda-research/llama-7b-hf\", device_map=\"auto\", load_in_8bit=True)\n",
    "\n",
    "if environment == \"local\":\n",
    "    model = AutoModelForCausalLM.from_pretrained(\n",
    "        CHECKPOINT, \n",
    "        # load_in_8bit=True,\n",
    "        # load_in_4bit=True,\n",
    "        # llm_int8_enable_fp32_cpu_offload=True,\n",
    "    )\n",
    "    tokenizer = AutoTokenizer.from_pretrained(model)"
   ],
   "metadata": {
    "collapsed": false,
    "ExecuteTime": {
     "start_time": "2024-03-04T10:50:24.836615500Z"
    }
   },
   "id": "94ffe70f102ba325",
   "execution_count": null
  },
  {
   "cell_type": "code",
   "outputs": [],
   "source": [],
   "metadata": {
    "collapsed": false,
    "ExecuteTime": {
     "start_time": "2024-03-04T10:50:13.032850700Z"
    }
   },
   "id": "5cdee926c3eac38"
  },
  {
   "cell_type": "code",
   "outputs": [],
   "source": [],
   "metadata": {
    "collapsed": false,
    "ExecuteTime": {
     "start_time": "2024-03-04T10:50:13.035992300Z"
    }
   },
   "id": "717f24a44b6c8dff"
  }
 ],
 "metadata": {
  "kernelspec": {
   "display_name": "Python 3",
   "language": "python",
   "name": "python3"
  },
  "language_info": {
   "codemirror_mode": {
    "name": "ipython",
    "version": 2
   },
   "file_extension": ".py",
   "mimetype": "text/x-python",
   "name": "python",
   "nbconvert_exporter": "python",
   "pygments_lexer": "ipython2",
   "version": "2.7.6"
  }
 },
 "nbformat": 4,
 "nbformat_minor": 5
}
